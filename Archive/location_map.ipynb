{
 "cells": [
  {
   "cell_type": "code",
   "execution_count": 3,
   "metadata": {},
   "outputs": [],
   "source": [
    "import pandas as pd\n",
    "import numpy as np\n",
    "import gmaps\n",
    "import gmaps.datasets\n",
    "import dataset as dataset\n",
    "import gmaps_apikey as gak # API key for Google Maps\n",
    "import math\n",
    "import pdb\n",
    "# Load the datasets\n",
    "crime_data = dataset.get_dataset()\n",
    "crime_data.head()\n",
    "\n",
    "Latitude = crime_data['Latitude']\n",
    "Longitude = crime_data['Longitude']\n",
    "\n",
    "# Q: What is the longitude of ney york city?\n",
    "# A: -74.0059413 to -73.910408\n",
    "Lon = np.arange(-74.0059413, -73.910408, 0.021) # 0.021 is the step size\n",
    "\n",
    "# Q: What is the latitude of ney york city?\n",
    "# A: 40.5774 to 40.917577\n",
    "Lat = np.arange(40.5774, 40.917577, 0.021) # 0.021 is the step size\n",
    "\n",
    "Crime_counts = np.zeros((1000,1000)) # 1000x1000 matrix\n",
    "\n",
    "gmaps.configure(api_key = gak.getApiKey())\n",
    "\n",
    "heatmap_data = {'Latitude':  Latitude, 'Longitude': Longitude}\n",
    "# make heatmap data a one-dimensional array\n",
    "np.concatenate(list(heatmap_data.values()))\n",
    "df = pd.DataFrame(data=heatmap_data)\n",
    "locations = df[['Latitude', 'Longitude']]\n",
    "weights = df['Latitude']\n",
    "fig = gmaps.figure()\n",
    "cleaned_locs = []\n",
    "cleaned_weights = []\n",
    "ghts = []\n",
    "for i in range(len(locations)):\n",
    "    if type(locations['Latitude'][i]) != str and not math.isnan(locations['Latitude'][i]) and not math.isnan(locations['Latitude'][i]):\n",
    "        if type(locations['Longitude'][i]) != str and not math.isnan(locations['Longitude'][i]) and not math.isnan(locations['Longitude'][i]):\n",
    "            cleaned_locs.append((locations['Latitude'][i], locations['Longitude'][i]))\n",
    "        \n",
    "for i in weights:\n",
    "    if not math.isnan(i):\n",
    "        cleaned_weights.append(i)\n",
    "        \n",
    "heatmap_layer = gmaps.heatmap_layer(cleaned_locs, weights=cleaned_weights)\n",
    "fig.add_layer(heatmap_layer)\n"
   ]
  },
  {
   "cell_type": "code",
   "execution_count": 7,
   "outputs": [
    {
     "data": {
      "text/plain": "Figure(layout=FigureLayout(height='420px'))",
      "application/vnd.jupyter.widget-view+json": {
       "version_major": 2,
       "version_minor": 0,
       "model_id": "719e2960eeb7451a90e91334b6d18453"
      }
     },
     "execution_count": 7,
     "metadata": {},
     "output_type": "execute_result"
    }
   ],
   "source": [
    "fig"
   ],
   "metadata": {
    "collapsed": false
   }
  },
  {
   "cell_type": "code",
   "execution_count": null,
   "outputs": [],
   "source": [],
   "metadata": {
    "collapsed": false
   }
  }
 ],
 "metadata": {
  "kernelspec": {
   "display_name": "Python 3",
   "language": "python",
   "name": "python3"
  },
  "language_info": {
   "codemirror_mode": {
    "name": "ipython",
    "version": 3
   },
   "file_extension": ".py",
   "mimetype": "text/x-python",
   "name": "python",
   "nbconvert_exporter": "python",
   "pygments_lexer": "ipython3",
   "version": "3.9.13"
  },
  "orig_nbformat": 4,
  "vscode": {
   "interpreter": {
    "hash": "8094f80773cfc88f6bac529e8674e18b6eb7dac68b70b0876587666c02e0aac5"
   }
  }
 },
 "nbformat": 4,
 "nbformat_minor": 2
}
